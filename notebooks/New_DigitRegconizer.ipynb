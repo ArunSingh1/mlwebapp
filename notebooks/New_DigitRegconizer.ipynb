{
 "cells": [
  {
   "cell_type": "code",
   "execution_count": 6,
   "id": "96c45f7f",
   "metadata": {},
   "outputs": [],
   "source": [
    "#https://www.kdnuggets.com/2021/02/saving-loading-models-tensorflow.html\n",
    "import tensorflow as tf\n",
    "import pandas as pd\n",
    "from tensorflow.keras.layers import Dense, Dropout, Conv2D, MaxPooling2D, Flatten\n",
    "from sklearn.model_selection import train_test_split\n",
    "import numpy as np"
   ]
  },
  {
   "cell_type": "code",
   "execution_count": 7,
   "id": "5e44326d",
   "metadata": {},
   "outputs": [],
   "source": [
    "# !pip install tensorflow\n"
   ]
  },
  {
   "cell_type": "code",
   "execution_count": 8,
   "id": "f29b3d28",
   "metadata": {},
   "outputs": [
    {
     "data": {
      "text/html": [
       "<div>\n",
       "<style scoped>\n",
       "    .dataframe tbody tr th:only-of-type {\n",
       "        vertical-align: middle;\n",
       "    }\n",
       "\n",
       "    .dataframe tbody tr th {\n",
       "        vertical-align: top;\n",
       "    }\n",
       "\n",
       "    .dataframe thead th {\n",
       "        text-align: right;\n",
       "    }\n",
       "</style>\n",
       "<table border=\"1\" class=\"dataframe\">\n",
       "  <thead>\n",
       "    <tr style=\"text-align: right;\">\n",
       "      <th></th>\n",
       "      <th>label</th>\n",
       "      <th>pixel0</th>\n",
       "      <th>pixel1</th>\n",
       "      <th>pixel2</th>\n",
       "      <th>pixel3</th>\n",
       "      <th>pixel4</th>\n",
       "      <th>pixel5</th>\n",
       "      <th>pixel6</th>\n",
       "      <th>pixel7</th>\n",
       "      <th>pixel8</th>\n",
       "      <th>...</th>\n",
       "      <th>pixel774</th>\n",
       "      <th>pixel775</th>\n",
       "      <th>pixel776</th>\n",
       "      <th>pixel777</th>\n",
       "      <th>pixel778</th>\n",
       "      <th>pixel779</th>\n",
       "      <th>pixel780</th>\n",
       "      <th>pixel781</th>\n",
       "      <th>pixel782</th>\n",
       "      <th>pixel783</th>\n",
       "    </tr>\n",
       "  </thead>\n",
       "  <tbody>\n",
       "    <tr>\n",
       "      <th>0</th>\n",
       "      <td>1</td>\n",
       "      <td>0</td>\n",
       "      <td>0</td>\n",
       "      <td>0</td>\n",
       "      <td>0</td>\n",
       "      <td>0</td>\n",
       "      <td>0</td>\n",
       "      <td>0</td>\n",
       "      <td>0</td>\n",
       "      <td>0</td>\n",
       "      <td>...</td>\n",
       "      <td>0</td>\n",
       "      <td>0</td>\n",
       "      <td>0</td>\n",
       "      <td>0</td>\n",
       "      <td>0</td>\n",
       "      <td>0</td>\n",
       "      <td>0</td>\n",
       "      <td>0</td>\n",
       "      <td>0</td>\n",
       "      <td>0</td>\n",
       "    </tr>\n",
       "    <tr>\n",
       "      <th>1</th>\n",
       "      <td>0</td>\n",
       "      <td>0</td>\n",
       "      <td>0</td>\n",
       "      <td>0</td>\n",
       "      <td>0</td>\n",
       "      <td>0</td>\n",
       "      <td>0</td>\n",
       "      <td>0</td>\n",
       "      <td>0</td>\n",
       "      <td>0</td>\n",
       "      <td>...</td>\n",
       "      <td>0</td>\n",
       "      <td>0</td>\n",
       "      <td>0</td>\n",
       "      <td>0</td>\n",
       "      <td>0</td>\n",
       "      <td>0</td>\n",
       "      <td>0</td>\n",
       "      <td>0</td>\n",
       "      <td>0</td>\n",
       "      <td>0</td>\n",
       "    </tr>\n",
       "    <tr>\n",
       "      <th>2</th>\n",
       "      <td>1</td>\n",
       "      <td>0</td>\n",
       "      <td>0</td>\n",
       "      <td>0</td>\n",
       "      <td>0</td>\n",
       "      <td>0</td>\n",
       "      <td>0</td>\n",
       "      <td>0</td>\n",
       "      <td>0</td>\n",
       "      <td>0</td>\n",
       "      <td>...</td>\n",
       "      <td>0</td>\n",
       "      <td>0</td>\n",
       "      <td>0</td>\n",
       "      <td>0</td>\n",
       "      <td>0</td>\n",
       "      <td>0</td>\n",
       "      <td>0</td>\n",
       "      <td>0</td>\n",
       "      <td>0</td>\n",
       "      <td>0</td>\n",
       "    </tr>\n",
       "    <tr>\n",
       "      <th>3</th>\n",
       "      <td>4</td>\n",
       "      <td>0</td>\n",
       "      <td>0</td>\n",
       "      <td>0</td>\n",
       "      <td>0</td>\n",
       "      <td>0</td>\n",
       "      <td>0</td>\n",
       "      <td>0</td>\n",
       "      <td>0</td>\n",
       "      <td>0</td>\n",
       "      <td>...</td>\n",
       "      <td>0</td>\n",
       "      <td>0</td>\n",
       "      <td>0</td>\n",
       "      <td>0</td>\n",
       "      <td>0</td>\n",
       "      <td>0</td>\n",
       "      <td>0</td>\n",
       "      <td>0</td>\n",
       "      <td>0</td>\n",
       "      <td>0</td>\n",
       "    </tr>\n",
       "    <tr>\n",
       "      <th>4</th>\n",
       "      <td>0</td>\n",
       "      <td>0</td>\n",
       "      <td>0</td>\n",
       "      <td>0</td>\n",
       "      <td>0</td>\n",
       "      <td>0</td>\n",
       "      <td>0</td>\n",
       "      <td>0</td>\n",
       "      <td>0</td>\n",
       "      <td>0</td>\n",
       "      <td>...</td>\n",
       "      <td>0</td>\n",
       "      <td>0</td>\n",
       "      <td>0</td>\n",
       "      <td>0</td>\n",
       "      <td>0</td>\n",
       "      <td>0</td>\n",
       "      <td>0</td>\n",
       "      <td>0</td>\n",
       "      <td>0</td>\n",
       "      <td>0</td>\n",
       "    </tr>\n",
       "  </tbody>\n",
       "</table>\n",
       "<p>5 rows × 785 columns</p>\n",
       "</div>"
      ],
      "text/plain": [
       "   label  pixel0  pixel1  pixel2  pixel3  pixel4  pixel5  pixel6  pixel7  \\\n",
       "0      1       0       0       0       0       0       0       0       0   \n",
       "1      0       0       0       0       0       0       0       0       0   \n",
       "2      1       0       0       0       0       0       0       0       0   \n",
       "3      4       0       0       0       0       0       0       0       0   \n",
       "4      0       0       0       0       0       0       0       0       0   \n",
       "\n",
       "   pixel8  ...  pixel774  pixel775  pixel776  pixel777  pixel778  pixel779  \\\n",
       "0       0  ...         0         0         0         0         0         0   \n",
       "1       0  ...         0         0         0         0         0         0   \n",
       "2       0  ...         0         0         0         0         0         0   \n",
       "3       0  ...         0         0         0         0         0         0   \n",
       "4       0  ...         0         0         0         0         0         0   \n",
       "\n",
       "   pixel780  pixel781  pixel782  pixel783  \n",
       "0         0         0         0         0  \n",
       "1         0         0         0         0  \n",
       "2         0         0         0         0  \n",
       "3         0         0         0         0  \n",
       "4         0         0         0         0  \n",
       "\n",
       "[5 rows x 785 columns]"
      ]
     },
     "execution_count": 8,
     "metadata": {},
     "output_type": "execute_result"
    }
   ],
   "source": [
    "# Loading train data\n",
    "train_df = pd.read_csv('/home/arun/Documents/mlwebapp/data/digit-recognizer/train.csv')\n",
    "train_df.head()"
   ]
  },
  {
   "cell_type": "code",
   "execution_count": 9,
   "id": "17bf65f3",
   "metadata": {},
   "outputs": [],
   "source": [
    "from sklearn.model_selection import train_test_split\n"
   ]
  },
  {
   "cell_type": "code",
   "execution_count": 10,
   "id": "3b14abd8",
   "metadata": {},
   "outputs": [
    {
     "data": {
      "text/plain": [
       "(42000, 784)"
      ]
     },
     "execution_count": 10,
     "metadata": {},
     "output_type": "execute_result"
    }
   ],
   "source": [
    "\n",
    "# Extract label from train data\n",
    "y = train_df['label']\n",
    "X = train_df.drop(columns=['label'])\n",
    "X.shape"
   ]
  },
  {
   "cell_type": "code",
   "execution_count": 31,
   "id": "6899af18",
   "metadata": {},
   "outputs": [],
   "source": [
    "X_train, X_valid, y_train_classes, y_valid_classes = train_test_split(X, y, test_size=0.25, random_state=0 )"
   ]
  },
  {
   "cell_type": "code",
   "execution_count": 32,
   "id": "5906eb22",
   "metadata": {},
   "outputs": [],
   "source": [
    "\n",
    "# OneHotEncoding of the digits labels to match the Neural Network output\n",
    "y_full = pd.get_dummies(y)\n",
    "y_train = pd.get_dummies(y_train_classes)\n",
    "y_valid = pd.get_dummies(y_valid_classes)"
   ]
  },
  {
   "cell_type": "code",
   "execution_count": 33,
   "id": "8ae6571f",
   "metadata": {},
   "outputs": [],
   "source": [
    "X_train = X_train / 255.0 #normalizing images\n",
    "X_valid = X_valid / 255.0 "
   ]
  },
  {
   "cell_type": "markdown",
   "id": "0b32eb60",
   "metadata": {},
   "source": [
    "### ANN 3 layers "
   ]
  },
  {
   "cell_type": "code",
   "execution_count": 34,
   "id": "bd938038",
   "metadata": {},
   "outputs": [],
   "source": [
    "\n",
    "model = tf.keras.models.Sequential([\n",
    "    Dense(24, activation='relu', input_shape=(784,)),\n",
    "    Dropout(0.25),\n",
    "    Dense(60, activation='relu'),\n",
    "    Dropout(0.25),\n",
    "    Dense(12, activation='relu'),\n",
    "    Dense(10, activation=\"softmax\")\n",
    "])"
   ]
  },
  {
   "cell_type": "code",
   "execution_count": 35,
   "id": "7b3a454f",
   "metadata": {},
   "outputs": [],
   "source": [
    "\n",
    "loss_function = 'categorical_crossentropy'\n",
    "optimizer =  'adam'\n",
    "\n",
    "model.compile(loss=loss_function, optimizer=optimizer,\n",
    "              metrics=[\"accuracy\"])"
   ]
  },
  {
   "cell_type": "code",
   "execution_count": 36,
   "id": "49d5a93b",
   "metadata": {},
   "outputs": [
    {
     "name": "stdout",
     "output_type": "stream",
     "text": [
      "Model: \"sequential_3\"\n",
      "_________________________________________________________________\n",
      "Layer (type)                 Output Shape              Param #   \n",
      "=================================================================\n",
      "dense_4 (Dense)              (None, 24)                18840     \n",
      "_________________________________________________________________\n",
      "dropout_4 (Dropout)          (None, 24)                0         \n",
      "_________________________________________________________________\n",
      "dense_5 (Dense)              (None, 60)                1500      \n",
      "_________________________________________________________________\n",
      "dropout_5 (Dropout)          (None, 60)                0         \n",
      "_________________________________________________________________\n",
      "dense_6 (Dense)              (None, 12)                732       \n",
      "_________________________________________________________________\n",
      "dense_7 (Dense)              (None, 10)                130       \n",
      "=================================================================\n",
      "Total params: 21,202\n",
      "Trainable params: 21,202\n",
      "Non-trainable params: 0\n",
      "_________________________________________________________________\n"
     ]
    }
   ],
   "source": [
    "model.summary()"
   ]
  },
  {
   "cell_type": "code",
   "execution_count": null,
   "id": "b5614afd",
   "metadata": {},
   "outputs": [],
   "source": []
  },
  {
   "cell_type": "code",
   "execution_count": 37,
   "id": "2306f3f8",
   "metadata": {},
   "outputs": [
    {
     "name": "stdout",
     "output_type": "stream",
     "text": [
      "Epoch 1/75\n",
      "985/985 [==============================] - 2s 2ms/step - loss: 0.8586 - accuracy: 0.7247 - val_loss: 0.3261 - val_accuracy: 0.9013\n",
      "Epoch 2/75\n",
      "985/985 [==============================] - 2s 2ms/step - loss: 0.4650 - accuracy: 0.8556 - val_loss: 0.2688 - val_accuracy: 0.9192\n",
      "Epoch 3/75\n",
      "985/985 [==============================] - 2s 2ms/step - loss: 0.4122 - accuracy: 0.8751 - val_loss: 0.2491 - val_accuracy: 0.9262\n",
      "Epoch 4/75\n",
      "985/985 [==============================] - 2s 2ms/step - loss: 0.3695 - accuracy: 0.8864 - val_loss: 0.2375 - val_accuracy: 0.9298\n",
      "Epoch 5/75\n",
      "985/985 [==============================] - 2s 2ms/step - loss: 0.3434 - accuracy: 0.8951 - val_loss: 0.2294 - val_accuracy: 0.9328\n",
      "Epoch 6/75\n",
      "985/985 [==============================] - 2s 2ms/step - loss: 0.3332 - accuracy: 0.8959 - val_loss: 0.2150 - val_accuracy: 0.9362\n",
      "Epoch 7/75\n",
      "985/985 [==============================] - 2s 2ms/step - loss: 0.3177 - accuracy: 0.9034 - val_loss: 0.2134 - val_accuracy: 0.9393\n",
      "Epoch 8/75\n",
      "985/985 [==============================] - 1s 2ms/step - loss: 0.3117 - accuracy: 0.9039 - val_loss: 0.2034 - val_accuracy: 0.9407\n",
      "Epoch 9/75\n",
      "985/985 [==============================] - 2s 2ms/step - loss: 0.3054 - accuracy: 0.9050 - val_loss: 0.1966 - val_accuracy: 0.9443\n",
      "Epoch 10/75\n",
      "985/985 [==============================] - 2s 2ms/step - loss: 0.2999 - accuracy: 0.9060 - val_loss: 0.1914 - val_accuracy: 0.9430\n",
      "Epoch 11/75\n",
      "985/985 [==============================] - 1s 2ms/step - loss: 0.2890 - accuracy: 0.9092 - val_loss: 0.1931 - val_accuracy: 0.9425\n",
      "Epoch 12/75\n",
      "985/985 [==============================] - 2s 2ms/step - loss: 0.2858 - accuracy: 0.9123 - val_loss: 0.1898 - val_accuracy: 0.9443\n",
      "Epoch 13/75\n",
      "985/985 [==============================] - 2s 2ms/step - loss: 0.2775 - accuracy: 0.9150 - val_loss: 0.1935 - val_accuracy: 0.9441\n",
      "Epoch 14/75\n",
      "985/985 [==============================] - 2s 2ms/step - loss: 0.2781 - accuracy: 0.9136 - val_loss: 0.1901 - val_accuracy: 0.9431\n",
      "Epoch 15/75\n",
      "985/985 [==============================] - 2s 2ms/step - loss: 0.2714 - accuracy: 0.9166 - val_loss: 0.1941 - val_accuracy: 0.9423\n",
      "Epoch 16/75\n",
      "985/985 [==============================] - 1s 2ms/step - loss: 0.2685 - accuracy: 0.9171 - val_loss: 0.1955 - val_accuracy: 0.9411\n",
      "Epoch 17/75\n",
      "985/985 [==============================] - 2s 2ms/step - loss: 0.2637 - accuracy: 0.9181 - val_loss: 0.1901 - val_accuracy: 0.9458\n",
      "Epoch 18/75\n",
      "985/985 [==============================] - 2s 2ms/step - loss: 0.2636 - accuracy: 0.9192 - val_loss: 0.1855 - val_accuracy: 0.9455\n",
      "Epoch 19/75\n",
      "985/985 [==============================] - 2s 2ms/step - loss: 0.2567 - accuracy: 0.9210 - val_loss: 0.1951 - val_accuracy: 0.9443\n",
      "Epoch 20/75\n",
      "985/985 [==============================] - 2s 2ms/step - loss: 0.2560 - accuracy: 0.9191 - val_loss: 0.1839 - val_accuracy: 0.9458\n",
      "Epoch 21/75\n",
      "985/985 [==============================] - 2s 2ms/step - loss: 0.2569 - accuracy: 0.9183 - val_loss: 0.1924 - val_accuracy: 0.9436\n",
      "Epoch 22/75\n",
      "985/985 [==============================] - 2s 2ms/step - loss: 0.2500 - accuracy: 0.9228 - val_loss: 0.1891 - val_accuracy: 0.9433\n",
      "Epoch 23/75\n",
      "985/985 [==============================] - 2s 2ms/step - loss: 0.2441 - accuracy: 0.9249 - val_loss: 0.1866 - val_accuracy: 0.9458\n",
      "Epoch 24/75\n",
      "985/985 [==============================] - 1s 1ms/step - loss: 0.2430 - accuracy: 0.9247 - val_loss: 0.1912 - val_accuracy: 0.9457\n",
      "Epoch 25/75\n",
      "985/985 [==============================] - 1s 1ms/step - loss: 0.2461 - accuracy: 0.9241 - val_loss: 0.1861 - val_accuracy: 0.9458\n",
      "Epoch 26/75\n",
      "985/985 [==============================] - 2s 2ms/step - loss: 0.2414 - accuracy: 0.9256 - val_loss: 0.1868 - val_accuracy: 0.9450\n",
      "Epoch 27/75\n",
      "985/985 [==============================] - 2s 2ms/step - loss: 0.2355 - accuracy: 0.9248 - val_loss: 0.1835 - val_accuracy: 0.9453\n",
      "Epoch 28/75\n",
      "985/985 [==============================] - 2s 2ms/step - loss: 0.2375 - accuracy: 0.9267 - val_loss: 0.1865 - val_accuracy: 0.9459\n",
      "Epoch 29/75\n",
      "985/985 [==============================] - 2s 2ms/step - loss: 0.2388 - accuracy: 0.9267 - val_loss: 0.1838 - val_accuracy: 0.9493\n",
      "Epoch 30/75\n",
      "985/985 [==============================] - 2s 2ms/step - loss: 0.2375 - accuracy: 0.9266 - val_loss: 0.1918 - val_accuracy: 0.9463\n",
      "Epoch 31/75\n",
      "985/985 [==============================] - 2s 2ms/step - loss: 0.2373 - accuracy: 0.9255 - val_loss: 0.1846 - val_accuracy: 0.9468\n",
      "Epoch 32/75\n",
      "985/985 [==============================] - 2s 2ms/step - loss: 0.2325 - accuracy: 0.9270 - val_loss: 0.1873 - val_accuracy: 0.9446\n",
      "Epoch 33/75\n",
      "985/985 [==============================] - 2s 2ms/step - loss: 0.2307 - accuracy: 0.9276 - val_loss: 0.1867 - val_accuracy: 0.9467\n",
      "Epoch 34/75\n",
      "985/985 [==============================] - 2s 2ms/step - loss: 0.2306 - accuracy: 0.9283 - val_loss: 0.1837 - val_accuracy: 0.9473\n",
      "Epoch 35/75\n",
      "985/985 [==============================] - 2s 2ms/step - loss: 0.2268 - accuracy: 0.9296 - val_loss: 0.1825 - val_accuracy: 0.9481\n",
      "Epoch 36/75\n",
      "985/985 [==============================] - 2s 2ms/step - loss: 0.2288 - accuracy: 0.9289 - val_loss: 0.1843 - val_accuracy: 0.9467\n",
      "Epoch 37/75\n",
      "985/985 [==============================] - 2s 2ms/step - loss: 0.2291 - accuracy: 0.9287 - val_loss: 0.1831 - val_accuracy: 0.9477\n",
      "Epoch 38/75\n",
      "985/985 [==============================] - 2s 2ms/step - loss: 0.2210 - accuracy: 0.9316 - val_loss: 0.1920 - val_accuracy: 0.9460\n",
      "Epoch 39/75\n",
      "985/985 [==============================] - 2s 2ms/step - loss: 0.2221 - accuracy: 0.9318 - val_loss: 0.1877 - val_accuracy: 0.9465\n",
      "Epoch 40/75\n",
      "985/985 [==============================] - 2s 2ms/step - loss: 0.2254 - accuracy: 0.9298 - val_loss: 0.1877 - val_accuracy: 0.9466\n",
      "Epoch 41/75\n",
      "985/985 [==============================] - 2s 2ms/step - loss: 0.2179 - accuracy: 0.9313 - val_loss: 0.1849 - val_accuracy: 0.9475\n",
      "Epoch 42/75\n",
      "985/985 [==============================] - 2s 2ms/step - loss: 0.2176 - accuracy: 0.9311 - val_loss: 0.1881 - val_accuracy: 0.9473\n",
      "Epoch 43/75\n",
      "985/985 [==============================] - 2s 2ms/step - loss: 0.2220 - accuracy: 0.9315 - val_loss: 0.1888 - val_accuracy: 0.9450\n",
      "Epoch 44/75\n",
      "985/985 [==============================] - 2s 2ms/step - loss: 0.2195 - accuracy: 0.9319 - val_loss: 0.1832 - val_accuracy: 0.9483\n",
      "Epoch 45/75\n",
      "985/985 [==============================] - 3s 3ms/step - loss: 0.2183 - accuracy: 0.9326 - val_loss: 0.1895 - val_accuracy: 0.9467\n",
      "Epoch 46/75\n",
      "985/985 [==============================] - 2s 2ms/step - loss: 0.2182 - accuracy: 0.9313 - val_loss: 0.1857 - val_accuracy: 0.9477\n",
      "Epoch 47/75\n",
      "985/985 [==============================] - 2s 2ms/step - loss: 0.2174 - accuracy: 0.9331 - val_loss: 0.1899 - val_accuracy: 0.9485\n",
      "Epoch 48/75\n",
      "985/985 [==============================] - 2s 2ms/step - loss: 0.2186 - accuracy: 0.9326 - val_loss: 0.1943 - val_accuracy: 0.9469\n",
      "Epoch 49/75\n",
      "985/985 [==============================] - 2s 2ms/step - loss: 0.2118 - accuracy: 0.9338 - val_loss: 0.1950 - val_accuracy: 0.9464\n",
      "Epoch 50/75\n",
      "985/985 [==============================] - 2s 2ms/step - loss: 0.2149 - accuracy: 0.9326 - val_loss: 0.1928 - val_accuracy: 0.9466\n",
      "Epoch 51/75\n",
      "985/985 [==============================] - 2s 2ms/step - loss: 0.2114 - accuracy: 0.9343 - val_loss: 0.1960 - val_accuracy: 0.9454\n",
      "Epoch 52/75\n",
      "985/985 [==============================] - 2s 2ms/step - loss: 0.2158 - accuracy: 0.9319 - val_loss: 0.1824 - val_accuracy: 0.9507\n",
      "Epoch 53/75\n",
      "985/985 [==============================] - 2s 2ms/step - loss: 0.2154 - accuracy: 0.9333 - val_loss: 0.1940 - val_accuracy: 0.9472\n",
      "Epoch 54/75\n",
      "985/985 [==============================] - 2s 2ms/step - loss: 0.2114 - accuracy: 0.9349 - val_loss: 0.1891 - val_accuracy: 0.9483\n",
      "Epoch 55/75\n",
      "985/985 [==============================] - 2s 2ms/step - loss: 0.2090 - accuracy: 0.9349 - val_loss: 0.1886 - val_accuracy: 0.9460\n",
      "Epoch 56/75\n",
      "985/985 [==============================] - 2s 2ms/step - loss: 0.2094 - accuracy: 0.9349 - val_loss: 0.1883 - val_accuracy: 0.9468\n",
      "Epoch 57/75\n",
      "985/985 [==============================] - 2s 2ms/step - loss: 0.2128 - accuracy: 0.9343 - val_loss: 0.1865 - val_accuracy: 0.9456\n",
      "Epoch 58/75\n"
     ]
    },
    {
     "name": "stdout",
     "output_type": "stream",
     "text": [
      "985/985 [==============================] - 2s 2ms/step - loss: 0.2057 - accuracy: 0.9335 - val_loss: 0.1910 - val_accuracy: 0.9470\n",
      "Epoch 59/75\n",
      "985/985 [==============================] - 2s 2ms/step - loss: 0.2061 - accuracy: 0.9347 - val_loss: 0.1925 - val_accuracy: 0.9468\n",
      "Epoch 60/75\n",
      "985/985 [==============================] - 2s 2ms/step - loss: 0.2053 - accuracy: 0.9361 - val_loss: 0.1899 - val_accuracy: 0.9465\n",
      "Epoch 61/75\n",
      "985/985 [==============================] - 2s 2ms/step - loss: 0.2047 - accuracy: 0.9351 - val_loss: 0.1883 - val_accuracy: 0.9492\n",
      "Epoch 62/75\n",
      "985/985 [==============================] - 2s 2ms/step - loss: 0.2045 - accuracy: 0.9352 - val_loss: 0.1842 - val_accuracy: 0.9478\n",
      "Epoch 63/75\n",
      "985/985 [==============================] - 2s 2ms/step - loss: 0.2035 - accuracy: 0.9378 - val_loss: 0.1931 - val_accuracy: 0.9494\n",
      "Epoch 64/75\n",
      "985/985 [==============================] - 2s 2ms/step - loss: 0.1991 - accuracy: 0.9367 - val_loss: 0.1864 - val_accuracy: 0.9488\n",
      "Epoch 65/75\n",
      "985/985 [==============================] - 2s 2ms/step - loss: 0.2077 - accuracy: 0.9358 - val_loss: 0.1949 - val_accuracy: 0.9457\n",
      "Epoch 66/75\n",
      "985/985 [==============================] - 2s 2ms/step - loss: 0.1991 - accuracy: 0.9375 - val_loss: 0.1952 - val_accuracy: 0.9458\n",
      "Epoch 67/75\n",
      "985/985 [==============================] - 2s 2ms/step - loss: 0.1996 - accuracy: 0.9361 - val_loss: 0.1948 - val_accuracy: 0.9481\n",
      "Epoch 68/75\n",
      "985/985 [==============================] - 3s 3ms/step - loss: 0.2052 - accuracy: 0.9363 - val_loss: 0.1938 - val_accuracy: 0.9459\n",
      "Epoch 69/75\n",
      "985/985 [==============================] - 3s 3ms/step - loss: 0.1990 - accuracy: 0.9368 - val_loss: 0.1908 - val_accuracy: 0.9488\n",
      "Epoch 70/75\n",
      "985/985 [==============================] - 2s 2ms/step - loss: 0.2007 - accuracy: 0.9373 - val_loss: 0.2037 - val_accuracy: 0.9468\n",
      "Epoch 71/75\n",
      "985/985 [==============================] - 2s 2ms/step - loss: 0.1994 - accuracy: 0.9389 - val_loss: 0.1890 - val_accuracy: 0.9479\n",
      "Epoch 72/75\n",
      "985/985 [==============================] - 2s 2ms/step - loss: 0.1977 - accuracy: 0.9370 - val_loss: 0.1896 - val_accuracy: 0.9481\n",
      "Epoch 73/75\n",
      "985/985 [==============================] - 2s 2ms/step - loss: 0.1994 - accuracy: 0.9366 - val_loss: 0.1909 - val_accuracy: 0.9500\n",
      "Epoch 74/75\n",
      "985/985 [==============================] - 2s 2ms/step - loss: 0.1961 - accuracy: 0.9371 - val_loss: 0.1979 - val_accuracy: 0.9463\n",
      "Epoch 75/75\n",
      "985/985 [==============================] - 2s 2ms/step - loss: 0.1968 - accuracy: 0.9385 - val_loss: 0.1907 - val_accuracy: 0.9489\n"
     ]
    }
   ],
   "source": [
    "epochs = 75\n",
    "batch_size = 24\n",
    "\n",
    "history = model.fit(X_train, y_train, epochs=epochs, validation_data=(X_valid, y_valid))"
   ]
  },
  {
   "cell_type": "code",
   "execution_count": 38,
   "id": "ce341722",
   "metadata": {},
   "outputs": [
    {
     "name": "stdout",
     "output_type": "stream",
     "text": [
      "tf.Tensor(\n",
      "[[ 976    1    6    2    3    2   15    0    9    1]\n",
      " [   0 1171    4    7    0    1    1    1    3    2]\n",
      " [   3    7 1027   12    3    2    2    9   12    0]\n",
      " [   2    3   16 1004    0   17    2    9   11    6]\n",
      " [   2    8    8    0  973    2    5    3    3   30]\n",
      " [   1    3    0   18   10  856   12    2   19    9]\n",
      " [   5    0    4    0    8    8 1014    0    5    0]\n",
      " [   1   10   14    0   12    1    0 1078    1   12]\n",
      " [   8   14    2   10    2    9   19    2  924    5]\n",
      " [   7    1    1    3   21    7    2   22   12  940]], shape=(10, 10), dtype=int32)\n"
     ]
    }
   ],
   "source": [
    "valid_preds = np.argmax(model.predict(X_valid),axis=-1)\n",
    "print(tf.math.confusion_matrix(y_valid_classes, valid_preds))"
   ]
  },
  {
   "cell_type": "code",
   "execution_count": 44,
   "id": "c7a28584",
   "metadata": {},
   "outputs": [
    {
     "data": {
      "text/plain": [
       "pandas.core.frame.DataFrame"
      ]
     },
     "execution_count": 44,
     "metadata": {},
     "output_type": "execute_result"
    }
   ],
   "source": [
    "type(X_valid)"
   ]
  },
  {
   "cell_type": "code",
   "execution_count": 51,
   "id": "32322a56",
   "metadata": {},
   "outputs": [],
   "source": [
    "# X_valid = X_valid.to_numpy()\n",
    "# type(X_valid)\n",
    "data = X_valid[45]\n",
    "\n",
    "data = np.array(data)[np.newaxis, :] \n"
   ]
  },
  {
   "cell_type": "code",
   "execution_count": 62,
   "id": "dabfacf7",
   "metadata": {},
   "outputs": [],
   "source": [
    "y_valid_classes = y_valid_classes.to_numpy()"
   ]
  },
  {
   "cell_type": "code",
   "execution_count": 64,
   "id": "97c87ccb",
   "metadata": {},
   "outputs": [
    {
     "name": "stdout",
     "output_type": "stream",
     "text": [
      "The lable is  7\n"
     ]
    },
    {
     "data": {
      "image/png": "[encoded data removed]",
      "text/plain": [
       "<Figure size 432x288 with 1 Axes>"
      ]
     },
     "metadata": {
      "needs_background": "light"
     },
     "output_type": "display_data"
    }
   ],
   "source": [
    "import matplotlib.pyplot as plt\n",
    "randomdig=X_valid[45] \n",
    "print(\"The lable is \",y_valid_classes[45])\n",
    "randomdig_img=randomdig.reshape((28,28))\n",
    "plt.figure()\n",
    "plt.imshow(randomdig_img,cmap='gray')\n",
    "plt.show()"
   ]
  },
  {
   "cell_type": "code",
   "execution_count": 52,
   "id": "4e5da388",
   "metadata": {},
   "outputs": [
    {
     "data": {
      "text/plain": [
       "(1, 784)"
      ]
     },
     "execution_count": 52,
     "metadata": {},
     "output_type": "execute_result"
    }
   ],
   "source": [
    "data.shape"
   ]
  },
  {
   "cell_type": "code",
   "execution_count": 56,
   "id": "9a49819c",
   "metadata": {},
   "outputs": [],
   "source": [
    "model.save('myModel.h5')"
   ]
  },
  {
   "cell_type": "code",
   "execution_count": 58,
   "id": "d9626d2e",
   "metadata": {},
   "outputs": [],
   "source": [
    "model_ann = tf.keras.models.load_model('myModel.h5')"
   ]
  },
  {
   "cell_type": "code",
   "execution_count": 59,
   "id": "19e97ee3",
   "metadata": {},
   "outputs": [
    {
     "data": {
      "text/plain": [
       "array([7])"
      ]
     },
     "execution_count": 59,
     "metadata": {},
     "output_type": "execute_result"
    }
   ],
   "source": [
    "\n",
    "\n",
    "np.argmax(model_ann.predict(data),axis=-1)"
   ]
  },
  {
   "cell_type": "code",
   "execution_count": null,
   "id": "1be73925",
   "metadata": {},
   "outputs": [],
   "source": []
  }
 ],
 "metadata": {
  "kernelspec": {
   "display_name": "Python 3",
   "language": "python",
   "name": "python3"
  },
  "language_info": {
   "codemirror_mode": {
    "name": "ipython",
    "version": 3
   },
   "file_extension": ".py",
   "mimetype": "text/x-python",
   "name": "python",
   "nbconvert_exporter": "python",
   "pygments_lexer": "ipython3",
   "version": "3.8.5"
  }
 },
 "nbformat": 4,
 "nbformat_minor": 5
}
